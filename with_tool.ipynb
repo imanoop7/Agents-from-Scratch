{
  "cells": [
    {
      "cell_type": "code",
      "execution_count": 1,
      "metadata": {
        "colab": {
          "base_uri": "https://localhost:8080/"
        },
        "id": "R3KXOVZNx_Ky",
        "outputId": "5b7e6118-2175-4ef8-9cef-0ce5dd35a0c4"
      },
      "outputs": [
        {
          "name": "stdout",
          "output_type": "stream",
          "text": [
            "Collecting python-dotenv\n",
            "  Downloading python_dotenv-1.0.1-py3-none-any.whl.metadata (23 kB)\n",
            "Collecting groq\n",
            "  Downloading groq-0.9.0-py3-none-any.whl.metadata (13 kB)\n",
            "Requirement already satisfied: requests in /usr/local/lib/python3.10/dist-packages (2.31.0)\n",
            "Requirement already satisfied: anyio<5,>=3.5.0 in /usr/local/lib/python3.10/dist-packages (from groq) (3.7.1)\n",
            "Requirement already satisfied: distro<2,>=1.7.0 in /usr/lib/python3/dist-packages (from groq) (1.7.0)\n",
            "Collecting httpx<1,>=0.23.0 (from groq)\n",
            "  Downloading httpx-0.27.0-py3-none-any.whl.metadata (7.2 kB)\n",
            "Requirement already satisfied: pydantic<3,>=1.9.0 in /usr/local/lib/python3.10/dist-packages (from groq) (2.8.2)\n",
            "Requirement already satisfied: sniffio in /usr/local/lib/python3.10/dist-packages (from groq) (1.3.1)\n",
            "Requirement already satisfied: typing-extensions<5,>=4.7 in /usr/local/lib/python3.10/dist-packages (from groq) (4.12.2)\n",
            "Requirement already satisfied: charset-normalizer<4,>=2 in /usr/local/lib/python3.10/dist-packages (from requests) (3.3.2)\n",
            "Requirement already satisfied: idna<4,>=2.5 in /usr/local/lib/python3.10/dist-packages (from requests) (3.7)\n",
            "Requirement already satisfied: urllib3<3,>=1.21.1 in /usr/local/lib/python3.10/dist-packages (from requests) (2.0.7)\n",
            "Requirement already satisfied: certifi>=2017.4.17 in /usr/local/lib/python3.10/dist-packages (from requests) (2024.7.4)\n",
            "Requirement already satisfied: exceptiongroup in /usr/local/lib/python3.10/dist-packages (from anyio<5,>=3.5.0->groq) (1.2.2)\n",
            "Collecting httpcore==1.* (from httpx<1,>=0.23.0->groq)\n",
            "  Downloading httpcore-1.0.5-py3-none-any.whl.metadata (20 kB)\n",
            "Collecting h11<0.15,>=0.13 (from httpcore==1.*->httpx<1,>=0.23.0->groq)\n",
            "  Downloading h11-0.14.0-py3-none-any.whl.metadata (8.2 kB)\n",
            "Requirement already satisfied: annotated-types>=0.4.0 in /usr/local/lib/python3.10/dist-packages (from pydantic<3,>=1.9.0->groq) (0.7.0)\n",
            "Requirement already satisfied: pydantic-core==2.20.1 in /usr/local/lib/python3.10/dist-packages (from pydantic<3,>=1.9.0->groq) (2.20.1)\n",
            "Downloading python_dotenv-1.0.1-py3-none-any.whl (19 kB)\n",
            "Downloading groq-0.9.0-py3-none-any.whl (103 kB)\n",
            "\u001b[2K   \u001b[90m━━━━━━━━━━━━━━━━━━━━━━━━━━━━━━━━━━━━━━━━\u001b[0m \u001b[32m103.5/103.5 kB\u001b[0m \u001b[31m4.5 MB/s\u001b[0m eta \u001b[36m0:00:00\u001b[0m\n",
            "\u001b[?25hDownloading httpx-0.27.0-py3-none-any.whl (75 kB)\n",
            "\u001b[2K   \u001b[90m━━━━━━━━━━━━━━━━━━━━━━━━━━━━━━━━━━━━━━━━\u001b[0m \u001b[32m75.6/75.6 kB\u001b[0m \u001b[31m3.2 MB/s\u001b[0m eta \u001b[36m0:00:00\u001b[0m\n",
            "\u001b[?25hDownloading httpcore-1.0.5-py3-none-any.whl (77 kB)\n",
            "\u001b[2K   \u001b[90m━━━━━━━━━━━━━━━━━━━━━━━━━━━━━━━━━━━━━━━━\u001b[0m \u001b[32m77.9/77.9 kB\u001b[0m \u001b[31m4.5 MB/s\u001b[0m eta \u001b[36m0:00:00\u001b[0m\n",
            "\u001b[?25hDownloading h11-0.14.0-py3-none-any.whl (58 kB)\n",
            "\u001b[2K   \u001b[90m━━━━━━━━━━━━━━━━━━━━━━━━━━━━━━━━━━━━━━━━\u001b[0m \u001b[32m58.3/58.3 kB\u001b[0m \u001b[31m2.4 MB/s\u001b[0m eta \u001b[36m0:00:00\u001b[0m\n",
            "\u001b[?25hInstalling collected packages: python-dotenv, h11, httpcore, httpx, groq\n",
            "Successfully installed groq-0.9.0 h11-0.14.0 httpcore-1.0.5 httpx-0.27.0 python-dotenv-1.0.1\n"
          ]
        }
      ],
      "source": [
        "pip install python-dotenv groq requests"
      ]
    },
    {
      "cell_type": "code",
      "execution_count": 2,
      "metadata": {
        "id": "osYvR8yOx_K0"
      },
      "outputs": [],
      "source": [
        "# from dotenv import load_dotenv\n",
        "import os\n",
        "from groq import Groq\n",
        "import requests\n",
        "\n",
        "# # Load environment variables from .env file\n",
        "# load_dotenv()\n"
      ]
    },
    {
      "cell_type": "code",
      "execution_count": 3,
      "metadata": {
        "id": "r2TcvQj5yHNG"
      },
      "outputs": [],
      "source": [
        "from google.colab import userdata\n",
        "os.environ[\"GROQ_API_KEY\"]=userdata.get('GROQ_API_KEY')"
      ]
    },
    {
      "cell_type": "code",
      "execution_count": 4,
      "metadata": {
        "id": "0oP9VNYLx_K1"
      },
      "outputs": [],
      "source": [
        "class Tool:\n",
        "    def __init__(self, name, function):\n",
        "        self.name = name\n",
        "        self.function = function\n",
        "\n",
        "    def execute(self, *args, **kwargs):\n",
        "        return self.function(*args, **kwargs)\n"
      ]
    },
    {
      "cell_type": "code",
      "execution_count": 5,
      "metadata": {
        "id": "3MrUg6A3x_K1"
      },
      "outputs": [],
      "source": [
        "class Agent:\n",
        "    def __init__(self, client: Groq, system: str = \"\") -> None:\n",
        "        self.client = client\n",
        "        self.system = system\n",
        "        self.messages: list = []\n",
        "        self.tools = {}\n",
        "        if self.system:\n",
        "            self.messages.append({\"role\": \"system\", \"content\": system})\n",
        "\n",
        "    def add_tool(self, tool: Tool):\n",
        "        self.tools[tool.name] = tool\n",
        "\n",
        "    def __call__(self, message=\"\"):\n",
        "        if message:\n",
        "            self.messages.append({\"role\": \"user\", \"content\": message})\n",
        "        response = self.execute()\n",
        "        if response.startswith(\"CALL_TOOL\"):\n",
        "            parts = response.split()\n",
        "            tool_name = parts[1]\n",
        "            params = parts[2:]\n",
        "            result = self.tools[tool_name].execute(*params)\n",
        "            self.messages.append({\"role\": \"tool\", \"content\": result})\n",
        "            return result\n",
        "        else:\n",
        "            self.messages.append({\"role\": \"assistant\", \"content\": response})\n",
        "            return response\n",
        "\n",
        "    def execute(self):\n",
        "        completion = self.client.chat.completions.create(\n",
        "            model=\"llama3-70b-8192\", messages=self.messages\n",
        "        )\n",
        "        return completion.choices[0].message.content\n"
      ]
    },
    {
      "cell_type": "code",
      "execution_count": 6,
      "metadata": {
        "id": "kggQUOTLx_K2"
      },
      "outputs": [],
      "source": [
        "def calculator(a, b, operation):\n",
        "    a = float(a)\n",
        "    b = float(b)\n",
        "    if operation == \"add\":\n",
        "        return str(a + b)\n",
        "    elif operation == \"subtract\":\n",
        "        return str(a - b)\n",
        "    elif operation == \"multiply\":\n",
        "        return str(a * b)\n",
        "    elif operation == \"divide\":\n",
        "        return str(a / b)\n",
        "    else:\n",
        "        return \"Invalid operation\"\n",
        "\n",
        "calc_tool = Tool(\"calculator\", calculator)\n"
      ]
    },
    {
      "cell_type": "code",
      "execution_count": 7,
      "metadata": {
        "id": "PVBYMBi2x_K3"
      },
      "outputs": [],
      "source": [
        "def web_search(query):\n",
        "    response = requests.get(f\"https://api.duckduckgo.com/?q={query}&format=json&pretty=1\")\n",
        "    if response.status_code == 200:\n",
        "        return response.json()[\"results\"]\n",
        "    else:\n",
        "        return \"Failed to fetch results\"\n",
        "\n",
        "search_tool = Tool(\"web_search\", web_search)\n"
      ]
    },
    {
      "cell_type": "code",
      "execution_count": 10,
      "metadata": {
        "colab": {
          "base_uri": "https://localhost:8080/"
        },
        "id": "EjU-4EIPx_K3",
        "outputId": "f6208d99-a0b0-49d7-be73-f6bcaa070453"
      },
      "outputs": [
        {
          "name": "stdout",
          "output_type": "stream",
          "text": [
            "I'd be happy to help!\n",
            "\n",
            "According to current weather reports, here's the weather forecast for New York City today:\n",
            "\n",
            "**Current Weather:**\n",
            "\n",
            "* Conditions: Partly Cloudy\n",
            "* Temperature: 64°F (18°C)\n",
            "* Humidity: 64%\n",
            "* Wind: NW 10 mph (16 km/h)\n",
            "\n",
            "**Forecast for the Day:**\n",
            "\n",
            "* High Temperature: 68°F (20°C)\n",
            "* Low Temperature: 56°F (13°C)\n",
            "* Precipitation: 0% chance of rain\n",
            "* UV Index: 6 (Moderate)\n",
            "\n",
            "**Additional Details:**\n",
            "\n",
            "* Sunrise: 6:28 AM EDT\n",
            "* Sunset: 7:31 PM EDT\n",
            "\n",
            "Please note that weather forecasts are subject to change, and it's always a good idea to check for updates throughout the day.\n",
            "\n",
            "If you'd like more detailed information or a forecast for a specific area within New York City, feel free to let me know!\n"
          ]
        }
      ],
      "source": [
        "os.environ[\"GROQ_API_KEY\"] = os.getenv(\"GROQ_API_KEY\")\n",
        "client = Groq()\n",
        "agent = Agent(client, system=\"You are a helpful assistant.\")\n",
        "\n",
        "# Add tools to the agent\n",
        "agent.add_tool(calc_tool)\n",
        "agent.add_tool(search_tool)\n",
        "\n",
        "# Call the web search tool\n",
        "response = agent(\" what is weather today in new york\")\n",
        "print(response)\n"
      ]
    },
    {
      "cell_type": "code",
      "execution_count": null,
      "metadata": {
        "id": "kFAO1bK9x_K3"
      },
      "outputs": [],
      "source": []
    }
  ],
  "metadata": {
    "colab": {
      "provenance": []
    },
    "kernelspec": {
      "display_name": ".venv",
      "language": "python",
      "name": "python3"
    },
    "language_info": {
      "codemirror_mode": {
        "name": "ipython",
        "version": 3
      },
      "file_extension": ".py",
      "mimetype": "text/x-python",
      "name": "python",
      "nbconvert_exporter": "python",
      "pygments_lexer": "ipython3",
      "version": "3.12.3"
    }
  },
  "nbformat": 4,
  "nbformat_minor": 0
}
